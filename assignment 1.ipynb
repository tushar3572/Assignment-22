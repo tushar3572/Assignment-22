{
 "cells": [
  {
   "cell_type": "code",
   "execution_count": null,
   "id": "25548227-2990-4bec-b340-b37ab2bdb5ef",
   "metadata": {},
   "outputs": [],
   "source": [
    "     #Answer : 1\n",
    "    \n",
    "A probability density function (PDF) is used to define the random variable's probability coming within a \n",
    "distinct range of values, as opposed to taking on any one value.     "
   ]
  },
  {
   "cell_type": "code",
   "execution_count": null,
   "id": "57c0e5dd-f484-46c8-9e60-6f6a3d89993d",
   "metadata": {},
   "outputs": [],
   "source": [
    "     #Answer : 2\n",
    "    \n",
    "There are two types of probability distributions:\n",
    "\n",
    "1.Discrete probability distributions.\n",
    "2.Continuous probability distributions.    "
   ]
  },
  {
   "cell_type": "code",
   "execution_count": null,
   "id": "813d6b9f-065a-455f-8c0b-b39563827b93",
   "metadata": {},
   "outputs": [],
   "source": [
    "    #Answer : 3\n",
    "    \n",
    "from scipy.stats import norm\n",
    "\n",
    "def normal_pdf(mean, std_dev, x):\n",
    "    \"\"\"\n",
    "    Calculate the probability density function (PDF) of a normal distribution at a given point x.\n",
    "\n",
    "    Parameters:\n",
    "    mean (float): Mean of the normal distribution.\n",
    "    std_dev (float): Standard deviation of the normal distribution.\n",
    "    x (float): Point at which to calculate the PDF.\n",
    "\n",
    "    Returns:\n",
    "    float: The PDF at the given point x.\n",
    "    \"\"\"\n",
    "    pdf_value = norm.pdf(x, loc=mean, scale=std_dev)\n",
    "    return pdf_value\n",
    "\n",
    "# Example usage:\n",
    "mean = 5.0\n",
    "std_dev = 2.0\n",
    "x = 6.0\n",
    "pdf_at_x = normal_pdf(mean, std_dev, x)\n",
    "print(f\"PDF at x={x} is {pdf_at_x}\")\n",
    "    "
   ]
  },
  {
   "cell_type": "code",
   "execution_count": null,
   "id": "46ffeb1b-3b3a-4b1b-8b0e-adc14f86eefe",
   "metadata": {},
   "outputs": [],
   "source": [
    "    #Answer : 4\n",
    "    \n",
    "The Binomial distribution computes the probabilities of events where only two possible outcomes can occur \n",
    "(success or failure), e.g. when you look at the closing price of a stock each day for one year, \n",
    "the outcome of interest is whether the stock price increased or not.    "
   ]
  },
  {
   "cell_type": "code",
   "execution_count": 1,
   "id": "870ceba3-37ba-441e-959e-ad0dc6f486cb",
   "metadata": {},
   "outputs": [
    {
     "data": {
      "image/png": "[encoded data removed]",
      "text/plain": [
       "<Figure size 640x480 with 1 Axes>"
      ]
     },
     "metadata": {},
     "output_type": "display_data"
    }
   ],
   "source": [
    "    #Answer : 5\n",
    "    \n",
    "import numpy as np\n",
    "import matplotlib.pyplot as plt\n",
    "\n",
    "# Set the parameters\n",
    "sample_size = 1000\n",
    "probability_of_success = 0.4\n",
    "number_of_trials = 1  # Since it's a binomial distribution with only one trial\n",
    "\n",
    "# Generate the random sample\n",
    "random_sample = np.random.binomial(number_of_trials, probability_of_success, sample_size)\n",
    "\n",
    "# Plot a histogram of the results\n",
    "plt.hist(random_sample, bins=np.arange(-0.5, 2.5, 1), density=True, alpha=0.7, rwidth=0.85)\n",
    "plt.xlabel(\"Number of Successes\")\n",
    "plt.ylabel(\"Probability\")\n",
    "plt.title(f\"Binomial Distribution (n={number_of_trials}, p={probability_of_success})\")\n",
    "plt.xticks([0, 1])\n",
    "plt.grid(axis='y', linestyle='--', alpha=0.7)\n",
    "plt.show()\n",
    "    "
   ]
  },
  {
   "cell_type": "code",
   "execution_count": 7,
   "id": "9f1ca089-2c21-41b4-bcf3-07be11cb5c2a",
   "metadata": {},
   "outputs": [],
   "source": [
    "    #Answer : 6\n",
    "\n",
    "pip install scipy\n",
    "\n",
    "from scipy.stats import poisson\n",
    "\n",
    "def poisson_cdf(mean, x):\n",
    "    \"\"\"\n",
    "    Calculate the cumulative distribution function (CDF) of a Poisson distribution at a given point x.\n",
    "\n",
    "    Parameters:\n",
    "    mean (float): Mean of the Poisson distribution.\n",
    "    x (int): Point at which to calculate the CDF.\n",
    "\n",
    "    Returns:\n",
    "    float: The CDF at the given point x.\n",
    "    \"\"\"\n",
    "    cdf_value = poisson.cdf(x, mu=mean)\n",
    "    return cdf_value\n",
    "\n",
    "# Example usage:\n",
    "mean = 3.0\n",
    "x = 2\n",
    "cdf_at_x = poisson_cdf(mean, x)\n",
    "print(f\"CDF at x={x} is {cdf_at_x}\")\n"
   ]
  },
  {
   "cell_type": "code",
   "execution_count": null,
   "id": "269657f5-423f-4f34-ad8f-cf0fb4859cdd",
   "metadata": {},
   "outputs": [],
   "source": [
    "    #Answer : 7\n",
    "    \n",
    "Binomial distribution describes the distribution of binary data from a finite sample. \n",
    "Thus it gives the probability of getting r events out of n trials. \n",
    "Poisson distribution describes the distribution of binary data from an infinite sample.\n",
    "Thus it gives the probability of getting r events in a population.    "
   ]
  },
  {
   "cell_type": "code",
   "execution_count": 8,
   "id": "ca13a326-d70b-4cf7-aea4-a220365af783",
   "metadata": {},
   "outputs": [
    {
     "name": "stdout",
     "output_type": "stream",
     "text": [
      "Sample Mean: 5.035\n",
      "Sample Variance: 4.979775000000001\n"
     ]
    }
   ],
   "source": [
    "    #Answer : 8\n",
    "    \n",
    "import numpy as np\n",
    "\n",
    "# Set the parameters\n",
    "sample_size = 1000\n",
    "mean = 5\n",
    "\n",
    "# Generate the random sample\n",
    "random_sample = np.random.poisson(mean, sample_size)\n",
    "\n",
    "# Calculate the sample mean and variance\n",
    "sample_mean = np.mean(random_sample)\n",
    "sample_variance = np.var(random_sample)\n",
    "\n",
    "print(f\"Sample Mean: {sample_mean}\")\n",
    "print(f\"Sample Variance: {sample_variance}\")\n",
    "   "
   ]
  },
  {
   "cell_type": "code",
   "execution_count": null,
   "id": "5f692b78-64be-4b8b-9eca-1081b6780473",
   "metadata": {},
   "outputs": [],
   "source": [
    "    #Answer : 9\n",
    "    \n",
    "In binomial distribution Mean > Variance while in poisson distribution mean = variance    "
   ]
  },
  {
   "cell_type": "code",
   "execution_count": null,
   "id": "4f2d7d4b-a9bb-4c0a-8a2a-b13ee966a3f1",
   "metadata": {},
   "outputs": [],
   "source": [
    "    #Answer : 10\n",
    "    \n",
    "Shape of Normal Distribution\n",
    "\n",
    "This means that most of the observed data is clustered near the mean, \n",
    "while the data become less frequent when farther away from the mean.   "
   ]
  }
 ],
 "metadata": {
  "kernelspec": {
   "display_name": "Python 3 (ipykernel)",
   "language": "python",
   "name": "python3"
  },
  "language_info": {
   "codemirror_mode": {
    "name": "ipython",
    "version": 3
   },
   "file_extension": ".py",
   "mimetype": "text/x-python",
   "name": "python",
   "nbconvert_exporter": "python",
   "pygments_lexer": "ipython3",
   "version": "3.10.8"
  }
 },
 "nbformat": 4,
 "nbformat_minor": 5
}
